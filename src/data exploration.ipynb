{
 "cells": [
  {
   "cell_type": "code",
   "execution_count": 2,
   "metadata": {
    "collapsed": true
   },
   "outputs": [],
   "source": [
    "import numpy as np\n",
    "import pandas as pd\n",
    "import seaborn as sb\n",
    "import matplotlib.pyplot as plt\n",
    "%matplotlib inline"
   ]
  },
  {
   "cell_type": "code",
   "execution_count": 4,
   "metadata": {
    "collapsed": false
   },
   "outputs": [],
   "source": [
    "orig_data = pd.read_csv(\"data/train_2008.csv\")\n",
    "data = orig_data.copy()"
   ]
  },
  {
   "cell_type": "code",
   "execution_count": 5,
   "metadata": {
    "collapsed": true
   },
   "outputs": [],
   "source": [
    "data_orig_cols = list(orig_data.columns) # original columns, with target PES1 on the end"
   ]
  },
  {
   "cell_type": "markdown",
   "metadata": {},
   "source": [
    "# Feature Engineering"
   ]
  },
  {
   "cell_type": "code",
   "execution_count": 6,
   "metadata": {
    "collapsed": false
   },
   "outputs": [],
   "source": [
    "### Goal: segment intuitively important features; standardize yes/no questions to binary\n",
    "\n",
    "# Segment HUFAMINC (family income)\n",
    "data['low_fam_inc'] = data.HUFAMINC.apply(lambda x: x >= 1 and x <= 11).astype(int)\n",
    "data['med_fam_inc'] = data.HUFAMINC.apply(lambda x: x >= 12 and x <= 14).astype(int)\n",
    "data['high_fam_inc'] = data.HUFAMINC.apply(lambda x: x >= 15).astype(int)\n",
    "\n",
    "# Segment HRNUMHOU (number of household members)\n",
    "data['one_person_hh'] = (data.HRNUMHOU == 1).astype(int)\n",
    "data['two_person_hh'] = (data.HRNUMHOU == 2).astype(int)\n",
    "data['multi_person_hh'] = (data.HRNUMHOU > 2).astype(int)\n",
    "\n",
    "# Segment HUBUS (business/farm owner?)\n",
    "data['farm_bus_hh'] = (data.HUBUS == 1).astype(int)\n",
    "data['non_farm_bus_hh'] = (data.HUBUS == 2).astype(int)\n",
    "\n",
    "# Segment GEREG (region)\n",
    "data['northeast'] = (data.GEREG == 1).astype(int)\n",
    "data['midwest'] = (data.GEREG == 2).astype(int)\n",
    "data['south'] = (data.GEREG == 3).astype(int)\n",
    "data['west'] = (data.GEREG == 4).astype(int)\n",
    "\n",
    "# Segment PEAGE (age)\n",
    "data['too_young'] = data.PEAGE.apply(lambda x: x >= 0 and x < 18).astype(int)\n",
    "data['youth'] = data.PEAGE.apply(lambda x: x >= 18 and x < 40).astype(int)\n",
    "data['middle_age'] = data.PEAGE.apply(lambda x: x >= 40 and x < 65).astype(int)\n",
    "data['elderly'] = data.PEAGE.apply(lambda x: x >= 65).astype(int)\n",
    "\n",
    "# Segment PEEDUCA (highest level of school completed or degree received)\n",
    "data['hs_dropout'] = data.PEEDUCA.apply(lambda x: x < 39).astype(int)\n",
    "data['hs_grad'] = data.PEEDUCA.apply(lambda x: x >= 39).astype(int)\n",
    "data['bachelor_deg'] = data.PEEDUCA.apply(lambda x: x >= 43).astype(int)\n",
    "data['adv_deg'] = data.PEEDUCA.apply(lambda x: x >= 44).astype(int)\n",
    "\n",
    "# Segment PTDTRACE (race)\n",
    "data['white_race'] = data.PTDTRACE.apply(lambda x: x == 1).astype(int)\n",
    "data['black_race'] = data.PTDTRACE.apply(lambda x: x == 2).astype(int)\n",
    "data['asian_race'] = data.PTDTRACE.apply(lambda x: x == 4).astype(int)\n",
    "data['mixed_race'] = data.PTDTRACE.apply(lambda x: x >= 6).astype(int)\n",
    "\n",
    "# Segment PENATVTY (country of birth)\n",
    "data['us_born'] = data.PENATVTY.apply(lambda x: x == 57).astype(int)\n",
    "data['us_territory_born'] = data.PENATVTY.apply(lambda x: x in [66, 73, 78, 96]).astype(int)\n",
    "data['born_outside_us'] = data.PENATVTY.apply(lambda x: x == 555).astype(int)\n",
    "\n",
    "# Segment PRINUSYR (immigrant entry year)\n",
    "data['imm_last_10'] = data.PRINUSYR.apply(lambda x: x >= 16).astype(int)\n",
    "data['imm_last_20'] = data.PRINUSYR.apply(lambda x: x >= 11 and x < 16).astype(int)\n",
    "data['imm_before_1988'] = data.PRINUSYR.apply(lambda x: x >= 1 and x < 11).astype(int)\n",
    "\n",
    "# Segment PUABSOT (did you have a job last week?)\n",
    "data['employed'] = data.PUABSOT.apply(lambda x: x == 1).astype(int)\n",
    "data['unemployed'] = data.PUABSOT.apply(lambda x: x == 2).astype(int) # This does not include retired; only unemployed\n",
    "\n",
    "# Segment PEIO1COW (employer type)\n",
    "data['fed_employed'] = data.PEIO1COW.apply(lambda x: x in [1, 2, 3]).astype(int)\n",
    "data['priv_employed'] = data.PEIO1COW.apply(lambda x: x in [4, 5]).astype(int)\n",
    "data['self_employed'] = data.PEIO1COW.apply(lambda x: x in [6, 7]).astype(int)\n",
    "\n",
    "# Segment PRCHLD (has own children)\n",
    "data['parent'] = data.PRCHLD.apply(lambda x: x >= 1).astype(int)\n",
    "\n",
    "# Segment PEAFWHN1 (military service period)\n",
    "data['ww2_vet'] = data.PEAFWHN1.apply(lambda x: x == 8).astype(int)\n",
    "data['vietnam_vet'] = data.PEAFWHN1.apply(lambda x: x == 4).astype(int)\n",
    "data['korea_vet'] = data.PEAFWHN1.apply(lambda x: x == 6).astype(int)\n",
    "\n",
    "# 0/1 PESEX (sex)\n",
    "data['male'] = data.PESEX.apply(lambda x: x == 1).astype(int)\n",
    "data['female'] = data.PESEX.apply(lambda x: x == 2).astype(int)\n",
    "\n",
    "# 0/1 PEHSPNON (hispanic?)\n",
    "data['hispanic'] = data.PEHSPNON.apply(lambda x: x == 1).astype(int)\n",
    "data['nonhispanic'] = data.PEHSPNON.apply(lambda x: x == 2).astype(int)\n",
    "\n",
    "# 0/1 PURETOT (retired?)\n",
    "data['retired'] = data.PURETOT.apply(lambda x: x == 1).astype(int)\n",
    "data['not_retired'] = data.PURETOT.apply(lambda x: x >= 2).astype(int) # 3 indicates they just retired; treat as not retired\n",
    "\n",
    "# 0/1 PEGRPROF (any grad/prof school courses for credit since bachelor's?)\n",
    "data['grad_courses_since_bach'] = data.PEGRPROF.apply(lambda x: x == 1).astype(int)\n",
    "data['no_grad_courses_since_bach'] = data.PEGRPROF.apply(lambda x: x == 2).astype(int)"
   ]
  },
  {
   "cell_type": "markdown",
   "metadata": {},
   "source": [
    "# Drop allocation flag features; handle missing values"
   ]
  },
  {
   "cell_type": "code",
   "execution_count": 7,
   "metadata": {
    "collapsed": true
   },
   "outputs": [],
   "source": [
    "# Drop allocation flag features\n",
    "allocation_flag_feats = [col for col in data.columns if col[:2] == 'PX']\n",
    "data.drop(allocation_flag_feats, axis=1, inplace=True)\n",
    "\n",
    "# Replace negative values (all forms of N/A) with NaN\n",
    "for feat in data.columns:\n",
    "    data[feat] = data[feat].apply(lambda x: np.NaN if x < 0 else x)\n",
    "    \n",
    "# Replace NaN with the mean of the column\n",
    "for feat in data.columns:\n",
    "    data[feat].fillna(data[feat].mean(), inplace=True)\n",
    "    \n",
    "# Check for columns that are all NaN, and delete them\n",
    "all_nan_cols = []\n",
    "for feat in data.columns:\n",
    "    if np.all(np.isnan(data[feat])):\n",
    "        all_nan_cols.append(feat)\n",
    "data.drop(all_nan_cols, axis=1, inplace=True)"
   ]
  },
  {
   "cell_type": "code",
   "execution_count": 8,
   "metadata": {
    "collapsed": true
   },
   "outputs": [],
   "source": [
    "pes1 = data['PES1']\n",
    "data.drop('PES1', axis=1, inplace=True)\n",
    "data['PES1'] = pes1"
   ]
  },
  {
   "cell_type": "code",
   "execution_count": 9,
   "metadata": {
    "collapsed": false
   },
   "outputs": [
    {
     "data": {
      "text/plain": [
       "Index(['id', 'HRMONTH', 'HRYEAR4', 'HURESPLI', 'HUFINAL', 'HUSPNISH',\n",
       "       'HETENURE', 'HEHOUSUT', 'HETELHHD', 'HETELAVL',\n",
       "       ...\n",
       "       'korea_vet', 'male', 'female', 'hispanic', 'nonhispanic', 'retired',\n",
       "       'not_retired', 'grad_courses_since_bach', 'no_grad_courses_since_bach',\n",
       "       'PES1'],\n",
       "      dtype='object', length=326)"
      ]
     },
     "execution_count": 9,
     "metadata": {},
     "output_type": "execute_result"
    }
   ],
   "source": [
    "data.columns"
   ]
  },
  {
   "cell_type": "markdown",
   "metadata": {},
   "source": [
    "# Write out datasets"
   ]
  },
  {
   "cell_type": "code",
   "execution_count": 10,
   "metadata": {
    "collapsed": true
   },
   "outputs": [],
   "source": [
    "# Move PES1 (target feature) to the end of the dataframe\n",
    "pes1 = data['PES1']\n",
    "data.drop('PES1', axis=1, inplace=True)\n",
    "data['PES1'] = pes1\n",
    "\n",
    "# Make a dataframe of just the engineered features\n",
    "data_eng_feats_only = data[data.columns[-48:]]\n",
    "\n"
   ]
  },
  {
   "cell_type": "code",
   "execution_count": 11,
   "metadata": {
    "collapsed": false
   },
   "outputs": [],
   "source": [
    "non_eng_feats = [col for col in data.columns if col.isupper()]\n",
    "\n",
    "# Make a dataframe with no engineered features, just dropped allocation flags and NaNs removed\n",
    "data_orig_clean = data[['id'] + non_eng_feats]"
   ]
  },
  {
   "cell_type": "code",
   "execution_count": 12,
   "metadata": {
    "collapsed": false
   },
   "outputs": [
    {
     "data": {
      "text/plain": [
       "Index(['id', 'HRMONTH', 'HRYEAR4', 'HURESPLI', 'HUFINAL', 'HUSPNISH',\n",
       "       'HETENURE', 'HEHOUSUT', 'HETELHHD', 'HETELAVL',\n",
       "       ...\n",
       "       'korea_vet', 'male', 'female', 'hispanic', 'nonhispanic', 'retired',\n",
       "       'not_retired', 'grad_courses_since_bach', 'no_grad_courses_since_bach',\n",
       "       'PES1'],\n",
       "      dtype='object', length=326)"
      ]
     },
     "execution_count": 12,
     "metadata": {},
     "output_type": "execute_result"
    }
   ],
   "source": [
    "# Check that columns look right before writing out\n",
    "data.columns"
   ]
  },
  {
   "cell_type": "code",
   "execution_count": 13,
   "metadata": {
    "collapsed": false
   },
   "outputs": [
    {
     "data": {
      "text/plain": [
       "Index(['low_fam_inc', 'med_fam_inc', 'high_fam_inc', 'one_person_hh',\n",
       "       'two_person_hh', 'multi_person_hh', 'farm_bus_hh', 'non_farm_bus_hh',\n",
       "       'northeast', 'midwest', 'south', 'west', 'too_young', 'youth',\n",
       "       'middle_age', 'elderly', 'hs_dropout', 'hs_grad', 'bachelor_deg',\n",
       "       'adv_deg', 'white_race', 'black_race', 'asian_race', 'mixed_race',\n",
       "       'us_born', 'us_territory_born', 'born_outside_us', 'imm_last_10',\n",
       "       'imm_last_20', 'imm_before_1988', 'employed', 'unemployed',\n",
       "       'fed_employed', 'priv_employed', 'self_employed', 'parent', 'ww2_vet',\n",
       "       'vietnam_vet', 'korea_vet', 'male', 'female', 'hispanic', 'nonhispanic',\n",
       "       'retired', 'not_retired', 'grad_courses_since_bach',\n",
       "       'no_grad_courses_since_bach', 'PES1'],\n",
       "      dtype='object')"
      ]
     },
     "execution_count": 13,
     "metadata": {},
     "output_type": "execute_result"
    }
   ],
   "source": [
    "# Same for the eng-feats-only dataframe\n",
    "data_eng_feats_only.columns"
   ]
  },
  {
   "cell_type": "code",
   "execution_count": 14,
   "metadata": {
    "collapsed": false
   },
   "outputs": [
    {
     "data": {
      "text/plain": [
       "Index(['id', 'HRMONTH', 'HRYEAR4', 'HURESPLI', 'HUFINAL', 'HUSPNISH',\n",
       "       'HETENURE', 'HEHOUSUT', 'HETELHHD', 'HETELAVL',\n",
       "       ...\n",
       "       'PEMOMTYP', 'PECOHAB', 'PEDISEAR', 'PEDISEYE', 'PEDISREM', 'PEDISPHY',\n",
       "       'PEDISDRS', 'PEDISOUT', 'PRDISFLG', 'PES1'],\n",
       "      dtype='object', length=279)"
      ]
     },
     "execution_count": 14,
     "metadata": {},
     "output_type": "execute_result"
    }
   ],
   "source": [
    "# Same for the eng-feats-only dataframe\n",
    "data_orig_clean.columns"
   ]
  },
  {
   "cell_type": "code",
   "execution_count": 189,
   "metadata": {
    "collapsed": false
   },
   "outputs": [],
   "source": [
    "# Write out new data sets\n",
    "data_eng_feats_only.to_csv('train_2008_eng_feats_only.csv', index=False)\n",
    "data.to_csv('train_2008_with_eng_feats_no_allo_flags.csv', index=False)\n",
    "data_orig_clean.to_csv('train_2008_clean_no_eng_feats.csv', index=False)"
   ]
  },
  {
   "cell_type": "markdown",
   "metadata": {},
   "source": [
    "# Remove misleading features (mostly codes)"
   ]
  },
  {
   "cell_type": "markdown",
   "metadata": {},
   "source": [
    "starting with data that has engineered features, negative values set to the mean of the feature, and allocation flags removed."
   ]
  },
  {
   "cell_type": "code",
   "execution_count": 15,
   "metadata": {
    "collapsed": true
   },
   "outputs": [],
   "source": [
    "# first list is from eyeballing; second is list of \"weight\" features that are just used for statistical tallying\n",
    "bad_cols = ['QSTNUM', 'GESTFIPS', 'GESTCEN', 'HRMIS', 'GTCBSA'] + [col for col in data.columns if col[-3:] == 'WGT']\n",
    "\n",
    "# drop 'em\n",
    "data.drop(bad_cols, axis=1, inplace=True)"
   ]
  },
  {
   "cell_type": "code",
   "execution_count": 16,
   "metadata": {
    "collapsed": false
   },
   "outputs": [],
   "source": [
    "### GTCBSASZ indicates size of city of residence - seems useful. Let's dummy it!\n",
    "\n",
    "# First we need to convert the codes into categorical variables\n",
    "city_size_map = {\n",
    "                    0:  'rural',\n",
    "                    2:  '100_250',\n",
    "                    3:  '250_500',\n",
    "                    4:  '500_1000',\n",
    "                    5:  '1000_2500',\n",
    "                    6:  '2500_5000',\n",
    "                    7:  '5000_plus'\n",
    "                }\n",
    "data['GTCBSASZ'] = data['GTCBSASZ'].map(city_size_map)\n",
    "\n",
    "# encode in dummy vars\n",
    "city_size_dummies = pd.get_dummies(data['GTCBSASZ'], prefix='city_size')\n",
    "\n",
    "# add these new features to the data\n",
    "data = pd.concat([data, city_size_dummies], axis=1)"
   ]
  },
  {
   "cell_type": "code",
   "execution_count": 17,
   "metadata": {
    "collapsed": false
   },
   "outputs": [],
   "source": [
    "# Drop the original city size feature\n",
    "data.drop('GTCBSASZ', axis=1, inplace=True)\n",
    "\n",
    "# Rearrange columns so the target PES1 is last\n",
    "pes1 = data['PES1']\n",
    "data.drop('PES1', axis=1, inplace=True)\n",
    "data['PES1'] = pes1"
   ]
  },
  {
   "cell_type": "code",
   "execution_count": 18,
   "metadata": {
    "collapsed": false
   },
   "outputs": [
    {
     "data": {
      "text/plain": [
       "Index(['id', 'HRMONTH', 'HRYEAR4', 'HURESPLI', 'HUFINAL', 'HUSPNISH',\n",
       "       'HETENURE', 'HEHOUSUT', 'HETELHHD', 'HETELAVL',\n",
       "       ...\n",
       "       'grad_courses_since_bach', 'no_grad_courses_since_bach',\n",
       "       'city_size_1000_2500', 'city_size_100_250', 'city_size_2500_5000',\n",
       "       'city_size_250_500', 'city_size_5000_plus', 'city_size_500_1000',\n",
       "       'city_size_rural', 'PES1'],\n",
       "      dtype='object', length=320)"
      ]
     },
     "execution_count": 18,
     "metadata": {},
     "output_type": "execute_result"
    }
   ],
   "source": [
    "data.columns"
   ]
  },
  {
   "cell_type": "markdown",
   "metadata": {},
   "source": [
    "# More exploration"
   ]
  },
  {
   "cell_type": "code",
   "execution_count": 19,
   "metadata": {
    "collapsed": true
   },
   "outputs": [],
   "source": [
    "train = data.ix[1:, 3:-1]\n",
    "targets = data.ix[1:, -1].apply(lambda x: 0 if x == 2 else 1) # map to binary"
   ]
  },
  {
   "cell_type": "code",
   "execution_count": 20,
   "metadata": {
    "collapsed": false
   },
   "outputs": [],
   "source": [
    "from sklearn.ensemble import ExtraTreesClassifier\n",
    "from sklearn.feature_selection import SelectFromModel\n",
    "clf = ExtraTreesClassifier(n_estimators=200)\n",
    "clf = clf.fit(train, targets)"
   ]
  },
  {
   "cell_type": "code",
   "execution_count": 21,
   "metadata": {
    "collapsed": true
   },
   "outputs": [],
   "source": [
    "features = pd.DataFrame()\n",
    "features['feature'] = train.columns\n",
    "features['importance'] = clf.feature_importances_"
   ]
  },
  {
   "cell_type": "code",
   "execution_count": 22,
   "metadata": {
    "collapsed": false,
    "scrolled": true
   },
   "outputs": [
    {
     "name": "stderr",
     "output_type": "stream",
     "text": [
      "/Library/Frameworks/Python.framework/Versions/3.5/lib/python3.5/site-packages/ipykernel/__main__.py:1: FutureWarning: sort(columns=....) is deprecated, use sort_values(by=.....)\n",
      "  if __name__ == '__main__':\n"
     ]
    },
    {
     "data": {
      "text/html": [
       "<div>\n",
       "<table border=\"1\" class=\"dataframe\">\n",
       "  <thead>\n",
       "    <tr style=\"text-align: right;\">\n",
       "      <th></th>\n",
       "      <th>feature</th>\n",
       "      <th>importance</th>\n",
       "    </tr>\n",
       "  </thead>\n",
       "  <tbody>\n",
       "    <tr>\n",
       "      <th>37</th>\n",
       "      <td>PEEDUCA</td>\n",
       "      <td>0.020741</td>\n",
       "    </tr>\n",
       "    <tr>\n",
       "      <th>30</th>\n",
       "      <td>PEAGE</td>\n",
       "      <td>0.020550</td>\n",
       "    </tr>\n",
       "    <tr>\n",
       "      <th>8</th>\n",
       "      <td>HUFAMINC</td>\n",
       "      <td>0.018464</td>\n",
       "    </tr>\n",
       "    <tr>\n",
       "      <th>280</th>\n",
       "      <td>bachelor_deg</td>\n",
       "      <td>0.014972</td>\n",
       "    </tr>\n",
       "    <tr>\n",
       "      <th>279</th>\n",
       "      <td>hs_grad</td>\n",
       "      <td>0.014571</td>\n",
       "    </tr>\n",
       "    <tr>\n",
       "      <th>3</th>\n",
       "      <td>HETENURE</td>\n",
       "      <td>0.013642</td>\n",
       "    </tr>\n",
       "    <tr>\n",
       "      <th>278</th>\n",
       "      <td>hs_dropout</td>\n",
       "      <td>0.013550</td>\n",
       "    </tr>\n",
       "    <tr>\n",
       "      <th>24</th>\n",
       "      <td>GTCBSAST</td>\n",
       "      <td>0.012096</td>\n",
       "    </tr>\n",
       "    <tr>\n",
       "      <th>23</th>\n",
       "      <td>GTCO</td>\n",
       "      <td>0.011658</td>\n",
       "    </tr>\n",
       "    <tr>\n",
       "      <th>16</th>\n",
       "      <td>HRHHID2</td>\n",
       "      <td>0.011622</td>\n",
       "    </tr>\n",
       "    <tr>\n",
       "      <th>262</th>\n",
       "      <td>low_fam_inc</td>\n",
       "      <td>0.010948</td>\n",
       "    </tr>\n",
       "    <tr>\n",
       "      <th>22</th>\n",
       "      <td>GEREG</td>\n",
       "      <td>0.010574</td>\n",
       "    </tr>\n",
       "    <tr>\n",
       "      <th>13</th>\n",
       "      <td>HUINTTYP</td>\n",
       "      <td>0.010518</td>\n",
       "    </tr>\n",
       "    <tr>\n",
       "      <th>0</th>\n",
       "      <td>HURESPLI</td>\n",
       "      <td>0.010323</td>\n",
       "    </tr>\n",
       "    <tr>\n",
       "      <th>241</th>\n",
       "      <td>PEIO1OCD</td>\n",
       "      <td>0.010195</td>\n",
       "    </tr>\n",
       "    <tr>\n",
       "      <th>32</th>\n",
       "      <td>PEMARITL</td>\n",
       "      <td>0.009982</td>\n",
       "    </tr>\n",
       "    <tr>\n",
       "      <th>14</th>\n",
       "      <td>HUPRSCNT</td>\n",
       "      <td>0.009653</td>\n",
       "    </tr>\n",
       "    <tr>\n",
       "      <th>46</th>\n",
       "      <td>PRMARSTA</td>\n",
       "      <td>0.009615</td>\n",
       "    </tr>\n",
       "    <tr>\n",
       "      <th>234</th>\n",
       "      <td>PEDIPGED</td>\n",
       "      <td>0.009569</td>\n",
       "    </tr>\n",
       "    <tr>\n",
       "      <th>27</th>\n",
       "      <td>GTCSA</td>\n",
       "      <td>0.009548</td>\n",
       "    </tr>\n",
       "    <tr>\n",
       "      <th>11</th>\n",
       "      <td>HRNUMHOU</td>\n",
       "      <td>0.009186</td>\n",
       "    </tr>\n",
       "    <tr>\n",
       "      <th>190</th>\n",
       "      <td>PRMJOCC1</td>\n",
       "      <td>0.008855</td>\n",
       "    </tr>\n",
       "    <tr>\n",
       "      <th>185</th>\n",
       "      <td>PRDTOCC1</td>\n",
       "      <td>0.008835</td>\n",
       "    </tr>\n",
       "    <tr>\n",
       "      <th>272</th>\n",
       "      <td>south</td>\n",
       "      <td>0.008611</td>\n",
       "    </tr>\n",
       "    <tr>\n",
       "      <th>54</th>\n",
       "      <td>PUSLFPRX</td>\n",
       "      <td>0.008529</td>\n",
       "    </tr>\n",
       "    <tr>\n",
       "      <th>28</th>\n",
       "      <td>PERRP</td>\n",
       "      <td>0.008522</td>\n",
       "    </tr>\n",
       "    <tr>\n",
       "      <th>275</th>\n",
       "      <td>youth</td>\n",
       "      <td>0.008367</td>\n",
       "    </tr>\n",
       "    <tr>\n",
       "      <th>240</th>\n",
       "      <td>PEIO1ICD</td>\n",
       "      <td>0.008286</td>\n",
       "    </tr>\n",
       "    <tr>\n",
       "      <th>192</th>\n",
       "      <td>PRMJOCGR</td>\n",
       "      <td>0.008089</td>\n",
       "    </tr>\n",
       "    <tr>\n",
       "      <th>271</th>\n",
       "      <td>midwest</td>\n",
       "      <td>0.007862</td>\n",
       "    </tr>\n",
       "  </tbody>\n",
       "</table>\n",
       "</div>"
      ],
      "text/plain": [
       "          feature  importance\n",
       "37        PEEDUCA    0.020741\n",
       "30          PEAGE    0.020550\n",
       "8        HUFAMINC    0.018464\n",
       "280  bachelor_deg    0.014972\n",
       "279       hs_grad    0.014571\n",
       "3        HETENURE    0.013642\n",
       "278    hs_dropout    0.013550\n",
       "24       GTCBSAST    0.012096\n",
       "23           GTCO    0.011658\n",
       "16        HRHHID2    0.011622\n",
       "262   low_fam_inc    0.010948\n",
       "22          GEREG    0.010574\n",
       "13       HUINTTYP    0.010518\n",
       "0        HURESPLI    0.010323\n",
       "241      PEIO1OCD    0.010195\n",
       "32       PEMARITL    0.009982\n",
       "14       HUPRSCNT    0.009653\n",
       "46       PRMARSTA    0.009615\n",
       "234      PEDIPGED    0.009569\n",
       "27          GTCSA    0.009548\n",
       "11       HRNUMHOU    0.009186\n",
       "190      PRMJOCC1    0.008855\n",
       "185      PRDTOCC1    0.008835\n",
       "272         south    0.008611\n",
       "54       PUSLFPRX    0.008529\n",
       "28          PERRP    0.008522\n",
       "275         youth    0.008367\n",
       "240      PEIO1ICD    0.008286\n",
       "192      PRMJOCGR    0.008089\n",
       "271       midwest    0.007862"
      ]
     },
     "execution_count": 22,
     "metadata": {},
     "output_type": "execute_result"
    }
   ],
   "source": [
    "features.sort(['importance'],ascending=False).head(30)"
   ]
  },
  {
   "cell_type": "code",
   "execution_count": 23,
   "metadata": {
    "collapsed": false
   },
   "outputs": [
    {
     "data": {
      "text/plain": [
       "(64666, 316)"
      ]
     },
     "execution_count": 23,
     "metadata": {},
     "output_type": "execute_result"
    }
   ],
   "source": [
    "train.shape"
   ]
  },
  {
   "cell_type": "code",
   "execution_count": 24,
   "metadata": {
    "collapsed": false
   },
   "outputs": [
    {
     "data": {
      "text/plain": [
       "(64666, 109)"
      ]
     },
     "execution_count": 24,
     "metadata": {},
     "output_type": "execute_result"
    }
   ],
   "source": [
    "model = SelectFromModel(clf, prefit=True)\n",
    "train_new = model.transform(train)\n",
    "train_new.shape"
   ]
  },
  {
   "cell_type": "code",
   "execution_count": 25,
   "metadata": {
    "collapsed": false
   },
   "outputs": [
    {
     "data": {
      "text/plain": [
       "(64666, 109)"
      ]
     },
     "execution_count": 25,
     "metadata": {},
     "output_type": "execute_result"
    }
   ],
   "source": [
    "train_new.shape"
   ]
  },
  {
   "cell_type": "code",
   "execution_count": 26,
   "metadata": {
    "collapsed": false
   },
   "outputs": [],
   "source": [
    "train_new = pd.DataFrame(train_new)\n",
    "train_new['Y'] = np.array(targets)\n",
    "train_new.to_csv('data/training_data_cleaned_for_2012_sub.csv', index=False)"
   ]
  },
  {
   "cell_type": "code",
   "execution_count": 27,
   "metadata": {
    "collapsed": false
   },
   "outputs": [
    {
     "data": {
      "text/plain": [
       "Index([  0,   1,   2,   3,   4,   5,   6,   7,   8,   9,\n",
       "       ...\n",
       "       100, 101, 102, 103, 104, 105, 106, 107, 108, 'Y'],\n",
       "      dtype='object', length=110)"
      ]
     },
     "execution_count": 27,
     "metadata": {},
     "output_type": "execute_result"
    }
   ],
   "source": [
    "train_new.columns"
   ]
  },
  {
   "cell_type": "code",
   "execution_count": 28,
   "metadata": {
    "collapsed": false
   },
   "outputs": [
    {
     "data": {
      "text/plain": [
       "316"
      ]
     },
     "execution_count": 28,
     "metadata": {},
     "output_type": "execute_result"
    }
   ],
   "source": [
    "len(features)"
   ]
  },
  {
   "cell_type": "code",
   "execution_count": 141,
   "metadata": {
    "collapsed": false
   },
   "outputs": [
    {
     "data": {
      "text/plain": [
       "array([[   1.,  201.,    2., ...,    0.,    0.,    0.],\n",
       "       [   1.,    1.,    1., ...,    0.,    0.,    0.],\n",
       "       [   2.,    1.,    1., ...,    0.,    0.,    1.],\n",
       "       ..., \n",
       "       [   1.,    1.,    1., ...,    0.,    0.,    0.],\n",
       "       [   1.,  201.,    3., ...,    0.,    1.,    0.],\n",
       "       [   1.,  201.,    1., ...,    0.,    0.,    1.]])"
      ]
     },
     "execution_count": 141,
     "metadata": {},
     "output_type": "execute_result"
    }
   ],
   "source": [
    "train_new"
   ]
  },
  {
   "cell_type": "code",
   "execution_count": 29,
   "metadata": {
    "collapsed": false
   },
   "outputs": [],
   "source": [
    "imp_mean = features.importance.mean()"
   ]
  },
  {
   "cell_type": "code",
   "execution_count": 149,
   "metadata": {
    "collapsed": false
   },
   "outputs": [
    {
     "data": {
      "text/plain": [
       "272    0.008672\n",
       "Name: importance, dtype: float64"
      ]
     },
     "execution_count": 149,
     "metadata": {},
     "output_type": "execute_result"
    }
   ],
   "source": [
    "features[features['feature'] == 'south']['importance']"
   ]
  },
  {
   "cell_type": "code",
   "execution_count": 30,
   "metadata": {
    "collapsed": false
   },
   "outputs": [],
   "source": [
    "keep_feats = []\n",
    "for f in features['feature']:\n",
    "    if float(features[features['feature'] == f]['importance']) >= imp_mean:\n",
    "        keep_feats.append(f)"
   ]
  },
  {
   "cell_type": "code",
   "execution_count": 35,
   "metadata": {
    "collapsed": false
   },
   "outputs": [
    {
     "data": {
      "text/plain": [
       "110"
      ]
     },
     "execution_count": 35,
     "metadata": {},
     "output_type": "execute_result"
    }
   ],
   "source": [
    "len(train_new.columns)"
   ]
  },
  {
   "cell_type": "code",
   "execution_count": 31,
   "metadata": {
    "collapsed": false
   },
   "outputs": [
    {
     "data": {
      "text/plain": [
       "109"
      ]
     },
     "execution_count": 31,
     "metadata": {},
     "output_type": "execute_result"
    }
   ],
   "source": [
    "len(keep_feats)"
   ]
  },
  {
   "cell_type": "code",
   "execution_count": 32,
   "metadata": {
    "collapsed": false
   },
   "outputs": [],
   "source": [
    "import pickle as pkl\n",
    "pkl.dump(keep_feats, open('keep_feats.pkl', 'wb'))"
   ]
  },
  {
   "cell_type": "code",
   "execution_count": 161,
   "metadata": {
    "collapsed": false
   },
   "outputs": [
    {
     "data": {
      "text/plain": [
       "[<matplotlib.lines.Line2D at 0x10ce3e128>]"
      ]
     },
     "execution_count": 161,
     "metadata": {},
     "output_type": "execute_result"
    },
    {
     "data": {
      "image/png": "[encoded data removed]",
      "text/plain": [
       "<matplotlib.figure.Figure at 0x10cbd2b00>"
      ]
     },
     "metadata": {},
     "output_type": "display_data"
    }
   ],
   "source": [
    "plt.plot(data['PEEDUCA'], data['PES1'], 'b.')"
   ]
  },
  {
   "cell_type": "code",
   "execution_count": 166,
   "metadata": {
    "collapsed": false
   },
   "outputs": [
    {
     "data": {
      "text/plain": [
       "([array([    29.,      0.,     92.,      0.,    218.,      0.,    593.,\n",
       "              0.,    408.,      0.,    619.,      0.,    857.,      0.,\n",
       "            355.,      0.,  13232.,      0.,  10077.,      0.,   2277.,\n",
       "              0.,   2711.,      0.,  10833.,      0.,   4237.,      0.,\n",
       "            933.,    681.]),\n",
       "  array([   110.,      0.,    214.,      0.,    457.,      0.,   1220.,\n",
       "              0.,    890.,      0.,   1364.,      0.,   1817.,      0.,\n",
       "            695.,      0.,  20202.,      0.,  13089.,      0.,   2867.,\n",
       "              0.,   3270.,      0.,  12169.,      0.,   4559.,      0.,\n",
       "           1013.,    731.])],\n",
       " array([ 31. ,  31.5,  32. ,  32.5,  33. ,  33.5,  34. ,  34.5,  35. ,\n",
       "         35.5,  36. ,  36.5,  37. ,  37.5,  38. ,  38.5,  39. ,  39.5,\n",
       "         40. ,  40.5,  41. ,  41.5,  42. ,  42.5,  43. ,  43.5,  44. ,\n",
       "         44.5,  45. ,  45.5,  46. ]),\n",
       " <a list of 2 Lists of Patches objects>)"
      ]
     },
     "execution_count": 166,
     "metadata": {},
     "output_type": "execute_result"
    },
    {
     "data": {
      "image/png": "[encoded data removed]",
      "text/plain": [
       "<matplotlib.figure.Figure at 0x1101f8160>"
      ]
     },
     "metadata": {},
     "output_type": "display_data"
    }
   ],
   "source": [
    "plt.hist([data[data['PES1'] == 1]['PEEDUCA'], data[data['PES1'] == 2]['PEEDUCA']], stacked=True, bins=30)"
   ]
  },
  {
   "cell_type": "code",
   "execution_count": 168,
   "metadata": {
    "collapsed": false
   },
   "outputs": [
    {
     "data": {
      "text/plain": [
       "40.0"
      ]
     },
     "execution_count": 168,
     "metadata": {},
     "output_type": "execute_result"
    }
   ],
   "source": [
    "data['PEEDUCA'].median()"
   ]
  },
  {
   "cell_type": "code",
   "execution_count": null,
   "metadata": {
    "collapsed": true
   },
   "outputs": [],
   "source": []
  }
 ],
 "metadata": {
  "kernelspec": {
   "display_name": "Python 3",
   "language": "python",
   "name": "python3"
  },
  "language_info": {
   "codemirror_mode": {
    "name": "ipython",
    "version": 3
   },
   "file_extension": ".py",
   "mimetype": "text/x-python",
   "name": "python",
   "nbconvert_exporter": "python",
   "pygments_lexer": "ipython3",
   "version": "3.5.2"
  }
 },
 "nbformat": 4,
 "nbformat_minor": 0
}
