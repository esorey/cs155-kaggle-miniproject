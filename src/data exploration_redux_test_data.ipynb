{
 "cells": [
  {
   "cell_type": "code",
   "execution_count": 1,
   "metadata": {
    "collapsed": true
   },
   "outputs": [],
   "source": [
    "import numpy as np\n",
    "import pandas as pd\n",
    "import seaborn as sb\n",
    "import matplotlib.pyplot as plt\n",
    "%matplotlib inline"
   ]
  },
  {
   "cell_type": "code",
   "execution_count": 3,
   "metadata": {
    "collapsed": false
   },
   "outputs": [],
   "source": [
    "orig_data = pd.read_csv(\"data/test_2008.csv\")\n",
    "data = orig_data.copy()"
   ]
  },
  {
   "cell_type": "code",
   "execution_count": 4,
   "metadata": {
    "collapsed": true
   },
   "outputs": [],
   "source": [
    "data_orig_cols = list(orig_data.columns) # original columns, with target PES1 on the end"
   ]
  },
  {
   "cell_type": "markdown",
   "metadata": {},
   "source": [
    "# Feature Engineering"
   ]
  },
  {
   "cell_type": "code",
   "execution_count": 5,
   "metadata": {
    "collapsed": true
   },
   "outputs": [],
   "source": [
    "# Dummify categorical vars\n",
    "to_dummy = ['GEREG', 'PTDTRACE', 'PENATVTY', 'PEIO1COW', 'PEAFWHN1', 'GTCBSASZ',]\n",
    "\n",
    "dummy_df = pd.DataFrame()\n",
    "\n",
    "for var in to_dummy:\n",
    "    dummy_vars = pd.get_dummies(data[var], prefix=var)\n",
    "    dummy_df = pd.concat([dummy_df, dummy_vars], axis=1)\n",
    "    \n",
    "# Drop the original categorical variables\n",
    "data.drop(to_dummy, axis=1, inplace=True)\n",
    "\n",
    "# Add dummy vars to the data\n",
    "data = pd.concat([data, dummy_df], axis=1)"
   ]
  },
  {
   "cell_type": "markdown",
   "metadata": {},
   "source": [
    "# Drop allocation flag features; handle missing values"
   ]
  },
  {
   "cell_type": "code",
   "execution_count": 6,
   "metadata": {
    "collapsed": false
   },
   "outputs": [],
   "source": [
    "# Drop \"weight\" features\n",
    "weight_feats = [col for col in data.columns if col[-3:] == 'WGT']\n",
    "data.drop(weight_feats, axis=1, inplace=True)\n",
    "\n",
    "# Drop some other columns that are \"bad\"\n",
    "bad_feats = ['QSTNUM', 'PRERNWA', 'PRERNHLY', 'PEERNH1O', 'HRHHID2', 'GTCSA', 'GTCO', 'HUINTTYP', 'HURESPLI', 'HRMIS',\n",
    "            'PRDTOCC1', 'PRFAMREL', 'PUSLFPRX', 'OCCURNUM', 'PULINENO', 'PRMJOCC1', 'PRCHLD', 'GTCBSA', 'HRLONGLK',]\n",
    "data.drop(bad_feats, axis=1, inplace=True)"
   ]
  },
  {
   "cell_type": "code",
   "execution_count": 7,
   "metadata": {
    "collapsed": true
   },
   "outputs": [],
   "source": [
    "# Drop allocation flag features\n",
    "allocation_flag_feats = [col for col in data.columns if col[:2] == 'PX']\n",
    "data.drop(allocation_flag_feats, axis=1, inplace=True)\n",
    "\n",
    "# Replace negative values (all forms of N/A) with NaN\n",
    "for feat in data.columns:\n",
    "    data[feat] = data[feat].apply(lambda x: np.NaN if x < 0 else x)\n",
    "    \n",
    "# Replace NaN with the mean of the column\n",
    "for feat in data.columns:\n",
    "    data[feat].fillna(data[feat].mean(), inplace=True)\n",
    "    \n",
    "# Check for columns that are all NaN, and delete them\n",
    "all_nan_cols = []\n",
    "for feat in data.columns:\n",
    "    if np.all(np.isnan(data[feat])):\n",
    "        all_nan_cols.append(feat)\n",
    "data.drop(all_nan_cols, axis=1, inplace=True)"
   ]
  },
  {
   "cell_type": "markdown",
   "metadata": {},
   "source": [
    "# Remove misleading features (mostly codes)"
   ]
  },
  {
   "cell_type": "markdown",
   "metadata": {},
   "source": [
    "starting with data that has engineered features, negative values set to the mean of the feature, and allocation flags removed."
   ]
  },
  {
   "cell_type": "code",
   "execution_count": 9,
   "metadata": {
    "collapsed": false
   },
   "outputs": [],
   "source": [
    "# first list is from eyeballing; second is list of \"weight\" features that are just used for statistical tallying\n",
    "bad_cols = ['GESTFIPS', 'GESTCEN',] + [col for col in data.columns if col[-3:] == 'WGT']\n",
    "\n",
    "# drop 'em\n",
    "data.drop(bad_cols, axis=1, inplace=True)"
   ]
  },
  {
   "cell_type": "markdown",
   "metadata": {},
   "source": [
    "# Write out the columns we've selected"
   ]
  },
  {
   "cell_type": "code",
   "execution_count": 15,
   "metadata": {
    "collapsed": false
   },
   "outputs": [],
   "source": [
    "import pickle as pkl\n",
    "keep_feats = pkl.load(open('keep_feats.pkl', 'rb'))"
   ]
  },
  {
   "cell_type": "code",
   "execution_count": 16,
   "metadata": {
    "collapsed": false
   },
   "outputs": [
    {
     "data": {
      "text/plain": [
       "126"
      ]
     },
     "execution_count": 16,
     "metadata": {},
     "output_type": "execute_result"
    }
   ],
   "source": [
    "len(keep_feats)"
   ]
  },
  {
   "cell_type": "code",
   "execution_count": 17,
   "metadata": {
    "collapsed": true
   },
   "outputs": [],
   "source": [
    "data = data[keep_feats]"
   ]
  },
  {
   "cell_type": "code",
   "execution_count": 18,
   "metadata": {
    "collapsed": true
   },
   "outputs": [],
   "source": [
    "data.to_csv('data/test_2008_cleaned3.csv', index=False)"
   ]
  },
  {
   "cell_type": "code",
   "execution_count": null,
   "metadata": {
    "collapsed": true
   },
   "outputs": [],
   "source": []
  }
 ],
 "metadata": {
  "kernelspec": {
   "display_name": "Python 3",
   "language": "python",
   "name": "python3"
  },
  "language_info": {
   "codemirror_mode": {
    "name": "ipython",
    "version": 3
   },
   "file_extension": ".py",
   "mimetype": "text/x-python",
   "name": "python",
   "nbconvert_exporter": "python",
   "pygments_lexer": "ipython3",
   "version": "3.5.2"
  }
 },
 "nbformat": 4,
 "nbformat_minor": 0
}
