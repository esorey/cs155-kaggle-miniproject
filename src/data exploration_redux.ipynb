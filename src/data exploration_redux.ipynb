{
 "cells": [
  {
   "cell_type": "code",
   "execution_count": 1,
   "metadata": {
    "collapsed": true
   },
   "outputs": [],
   "source": [
    "import numpy as np\n",
    "import pandas as pd\n",
    "import seaborn as sb\n",
    "import matplotlib.pyplot as plt\n",
    "%matplotlib inline"
   ]
  },
  {
   "cell_type": "code",
   "execution_count": 3,
   "metadata": {
    "collapsed": false
   },
   "outputs": [],
   "source": [
    "orig_data = pd.read_csv(\"data/train_2008.csv\")\n",
    "data = orig_data.copy()"
   ]
  },
  {
   "cell_type": "code",
   "execution_count": 63,
   "metadata": {
    "collapsed": true
   },
   "outputs": [],
   "source": [
    "data_orig_cols = list(orig_data.columns) # original columns, with target PES1 on the end"
   ]
  },
  {
   "cell_type": "markdown",
   "metadata": {},
   "source": [
    "# Feature Engineering"
   ]
  },
  {
   "cell_type": "code",
   "execution_count": 4,
   "metadata": {
    "collapsed": true
   },
   "outputs": [],
   "source": [
    "# Dummify categorical vars\n",
    "to_dummy = ['GEREG', 'PTDTRACE', 'PENATVTY', 'PEIO1COW', 'PEAFWHN1', 'GTCBSASZ',]\n",
    "\n",
    "dummy_df = pd.DataFrame()\n",
    "\n",
    "for var in to_dummy:\n",
    "    dummy_vars = pd.get_dummies(data[var], prefix=var)\n",
    "    dummy_df = pd.concat([dummy_df, dummy_vars], axis=1)\n",
    "    \n",
    "# Drop the original categorical variables\n",
    "data.drop(to_dummy, axis=1, inplace=True)\n",
    "\n",
    "# Add dummy vars to the data\n",
    "data = pd.concat([data, dummy_df], axis=1)"
   ]
  },
  {
   "cell_type": "markdown",
   "metadata": {},
   "source": [
    "# Drop allocation flag features; handle missing values"
   ]
  },
  {
   "cell_type": "code",
   "execution_count": 7,
   "metadata": {
    "collapsed": false
   },
   "outputs": [],
   "source": [
    "# Drop \"weight\" features\n",
    "weight_feats = [col for col in data.columns if col[-3:] == 'WGT']\n",
    "data.drop(weight_feats, axis=1, inplace=True)\n",
    "\n",
    "# Drop some other columns that are \"bad\"\n",
    "bad_feats = ['QSTNUM', 'PRERNWA', 'PRERNHLY', 'PEERNH1O', 'HRHHID2', 'GTCSA', 'GTCO', 'HUINTTYP', 'HURESPLI', 'HRMIS',\n",
    "            'PRDTOCC1', 'PRFAMREL', 'PUSLFPRX', 'OCCURNUM', 'PULINENO', 'PRMJOCC1', 'PRCHLD', 'GTCBSA', 'HRLONGLK',]\n",
    "data.drop(bad_feats, axis=1, inplace=True)"
   ]
  },
  {
   "cell_type": "code",
   "execution_count": 8,
   "metadata": {
    "collapsed": true
   },
   "outputs": [],
   "source": [
    "# Drop allocation flag features\n",
    "allocation_flag_feats = [col for col in data.columns if col[:2] == 'PX']\n",
    "data.drop(allocation_flag_feats, axis=1, inplace=True)\n",
    "\n",
    "# Replace negative values (all forms of N/A) with NaN\n",
    "for feat in data.columns:\n",
    "    data[feat] = data[feat].apply(lambda x: np.NaN if x < 0 else x)\n",
    "    \n",
    "# Replace NaN with the mean of the column\n",
    "for feat in data.columns:\n",
    "    data[feat].fillna(data[feat].mean(), inplace=True)\n",
    "    \n",
    "# Check for columns that are all NaN, and delete them\n",
    "all_nan_cols = []\n",
    "for feat in data.columns:\n",
    "    if np.all(np.isnan(data[feat])):\n",
    "        all_nan_cols.append(feat)\n",
    "data.drop(all_nan_cols, axis=1, inplace=True)"
   ]
  },
  {
   "cell_type": "code",
   "execution_count": 9,
   "metadata": {
    "collapsed": true
   },
   "outputs": [],
   "source": [
    "pes1 = data['PES1']\n",
    "data.drop('PES1', axis=1, inplace=True)\n",
    "data['PES1'] = pes1"
   ]
  },
  {
   "cell_type": "code",
   "execution_count": 10,
   "metadata": {
    "collapsed": false
   },
   "outputs": [
    {
     "data": {
      "text/plain": [
       "Index(['id', 'HRMONTH', 'HRYEAR4', 'HUFINAL', 'HUSPNISH', 'HETENURE',\n",
       "       'HEHOUSUT', 'HETELHHD', 'HETELAVL', 'HEPHONEO',\n",
       "       ...\n",
       "       'PEAFWHN1_8', 'PEAFWHN1_9', 'GTCBSASZ_0', 'GTCBSASZ_2', 'GTCBSASZ_3',\n",
       "       'GTCBSASZ_4', 'GTCBSASZ_5', 'GTCBSASZ_6', 'GTCBSASZ_7', 'PES1'],\n",
       "      dtype='object', length=440)"
      ]
     },
     "execution_count": 10,
     "metadata": {},
     "output_type": "execute_result"
    }
   ],
   "source": [
    "data.columns"
   ]
  },
  {
   "cell_type": "markdown",
   "metadata": {},
   "source": [
    "# Write out datasets"
   ]
  },
  {
   "cell_type": "code",
   "execution_count": 9,
   "metadata": {
    "collapsed": true
   },
   "outputs": [],
   "source": [
    "# Move PES1 (target feature) to the end of the dataframe\n",
    "pes1 = data['PES1']\n",
    "data.drop('PES1', axis=1, inplace=True)\n",
    "data['PES1'] = pes1"
   ]
  },
  {
   "cell_type": "code",
   "execution_count": 170,
   "metadata": {
    "collapsed": false
   },
   "outputs": [
    {
     "data": {
      "text/plain": [
       "Index(['id', 'HRMONTH', 'HRYEAR4', 'HURESPLI', 'HUFINAL', 'HUSPNISH',\n",
       "       'HETENURE', 'HEHOUSUT', 'HETELHHD', 'HETELAVL',\n",
       "       ...\n",
       "       'korea_vet', 'male', 'female', 'hispanic', 'nonhispanic', 'retired',\n",
       "       'not_retired', 'grad_courses_since_bach', 'no_grad_courses_since_bach',\n",
       "       'PES1'],\n",
       "      dtype='object', length=326)"
      ]
     },
     "execution_count": 170,
     "metadata": {},
     "output_type": "execute_result"
    }
   ],
   "source": [
    "# Check that columns look right before writing out\n",
    "data.columns"
   ]
  },
  {
   "cell_type": "code",
   "execution_count": 189,
   "metadata": {
    "collapsed": false
   },
   "outputs": [],
   "source": [
    "# Write out new data sets\n",
    "data_eng_feats_only.to_csv('train_2008_eng_feats_only.csv', index=False)\n",
    "data.to_csv('train_2008_with_eng_feats_no_allo_flags.csv', index=False)\n",
    "data_orig_clean.to_csv('train_2008_clean_no_eng_feats.csv', index=False)"
   ]
  },
  {
   "cell_type": "markdown",
   "metadata": {},
   "source": [
    "# Remove misleading features (mostly codes)"
   ]
  },
  {
   "cell_type": "markdown",
   "metadata": {},
   "source": [
    "starting with data that has engineered features, negative values set to the mean of the feature, and allocation flags removed."
   ]
  },
  {
   "cell_type": "code",
   "execution_count": 12,
   "metadata": {
    "collapsed": false
   },
   "outputs": [],
   "source": [
    "# first list is from eyeballing; second is list of \"weight\" features that are just used for statistical tallying\n",
    "bad_cols = ['GESTFIPS', 'GESTCEN',] + [col for col in data.columns if col[-3:] == 'WGT']\n",
    "\n",
    "# drop 'em\n",
    "data.drop(bad_cols, axis=1, inplace=True)"
   ]
  },
  {
   "cell_type": "code",
   "execution_count": 69,
   "metadata": {
    "collapsed": false
   },
   "outputs": [],
   "source": [
    "# ### GTCBSASZ indicates size of city of residence - seems useful. Let's dummy it!\n",
    "\n",
    "# # First we need to convert the codes into categorical variables\n",
    "# city_size_map = {\n",
    "#                     0:  'rural',\n",
    "#                     2:  '100_250',\n",
    "#                     3:  '250_500',\n",
    "#                     4:  '500_1000',\n",
    "#                     5:  '1000_2500',\n",
    "#                     6:  '2500_5000',\n",
    "#                     7:  '5000_plus'\n",
    "#                 }\n",
    "# data['GTCBSASZ'] = data['GTCBSASZ'].map(city_size_map)\n",
    "\n",
    "# # encode in dummy vars\n",
    "# city_size_dummies = pd.get_dummies(data['GTCBSASZ'], prefix='city_size')\n",
    "\n",
    "# # add these new features to the data\n",
    "# data = pd.concat([data, city_size_dummies], axis=1)"
   ]
  },
  {
   "cell_type": "code",
   "execution_count": 76,
   "metadata": {
    "collapsed": false
   },
   "outputs": [],
   "source": [
    "# # Drop the original city size feature\n",
    "# data.drop('GTCBSASZ', axis=1, inplace=True)\n",
    "\n",
    "# # Rearrange columns so the target PES1 is last\n",
    "# pes1 = data['PES1']\n",
    "# data.drop('PES1', axis=1, inplace=True)\n",
    "# data['PES1'] = pes1"
   ]
  },
  {
   "cell_type": "code",
   "execution_count": 13,
   "metadata": {
    "collapsed": false
   },
   "outputs": [
    {
     "data": {
      "text/plain": [
       "Index(['id', 'HRMONTH', 'HRYEAR4', 'HUFINAL', 'HUSPNISH', 'HETENURE',\n",
       "       'HEHOUSUT', 'HETELHHD', 'HETELAVL', 'HEPHONEO',\n",
       "       ...\n",
       "       'PEAFWHN1_8', 'PEAFWHN1_9', 'GTCBSASZ_0', 'GTCBSASZ_2', 'GTCBSASZ_3',\n",
       "       'GTCBSASZ_4', 'GTCBSASZ_5', 'GTCBSASZ_6', 'GTCBSASZ_7', 'PES1'],\n",
       "      dtype='object', length=438)"
      ]
     },
     "execution_count": 13,
     "metadata": {},
     "output_type": "execute_result"
    }
   ],
   "source": [
    "data.columns"
   ]
  },
  {
   "cell_type": "markdown",
   "metadata": {},
   "source": [
    "# More exploration"
   ]
  },
  {
   "cell_type": "code",
   "execution_count": 14,
   "metadata": {
    "collapsed": true
   },
   "outputs": [],
   "source": [
    "train = data.ix[1:, 3:-1]\n",
    "targets = data.ix[1:, -1]"
   ]
  },
  {
   "cell_type": "code",
   "execution_count": 15,
   "metadata": {
    "collapsed": false
   },
   "outputs": [],
   "source": [
    "from sklearn.ensemble import ExtraTreesClassifier\n",
    "from sklearn.feature_selection import SelectFromModel\n",
    "clf = ExtraTreesClassifier(n_estimators=200)\n",
    "clf = clf.fit(train, targets)"
   ]
  },
  {
   "cell_type": "code",
   "execution_count": 16,
   "metadata": {
    "collapsed": true
   },
   "outputs": [],
   "source": [
    "features = pd.DataFrame()\n",
    "features['feature'] = train.columns\n",
    "features['importance'] = clf.feature_importances_"
   ]
  },
  {
   "cell_type": "code",
   "execution_count": 17,
   "metadata": {
    "collapsed": false,
    "scrolled": true
   },
   "outputs": [
    {
     "name": "stderr",
     "output_type": "stream",
     "text": [
      "/Library/Frameworks/Python.framework/Versions/3.5/lib/python3.5/site-packages/ipykernel/__main__.py:1: FutureWarning: sort(columns=....) is deprecated, use sort_values(by=.....)\n",
      "  if __name__ == '__main__':\n"
     ]
    },
    {
     "data": {
      "text/html": [
       "<div>\n",
       "<table border=\"1\" class=\"dataframe\">\n",
       "  <thead>\n",
       "    <tr style=\"text-align: right;\">\n",
       "      <th></th>\n",
       "      <th>feature</th>\n",
       "      <th>importance</th>\n",
       "    </tr>\n",
       "  </thead>\n",
       "  <tbody>\n",
       "    <tr>\n",
       "      <th>30</th>\n",
       "      <td>PEEDUCA</td>\n",
       "      <td>0.038594</td>\n",
       "    </tr>\n",
       "    <tr>\n",
       "      <th>23</th>\n",
       "      <td>PEAGE</td>\n",
       "      <td>0.033494</td>\n",
       "    </tr>\n",
       "    <tr>\n",
       "      <th>7</th>\n",
       "      <td>HUFAMINC</td>\n",
       "      <td>0.032985</td>\n",
       "    </tr>\n",
       "    <tr>\n",
       "      <th>2</th>\n",
       "      <td>HETENURE</td>\n",
       "      <td>0.018611</td>\n",
       "    </tr>\n",
       "    <tr>\n",
       "      <th>10</th>\n",
       "      <td>HRNUMHOU</td>\n",
       "      <td>0.018552</td>\n",
       "    </tr>\n",
       "    <tr>\n",
       "      <th>18</th>\n",
       "      <td>GTCBSAST</td>\n",
       "      <td>0.016524</td>\n",
       "    </tr>\n",
       "    <tr>\n",
       "      <th>221</th>\n",
       "      <td>PEIO1OCD</td>\n",
       "      <td>0.016172</td>\n",
       "    </tr>\n",
       "    <tr>\n",
       "      <th>12</th>\n",
       "      <td>HUPRSCNT</td>\n",
       "      <td>0.016027</td>\n",
       "    </tr>\n",
       "    <tr>\n",
       "      <th>214</th>\n",
       "      <td>PEDIPGED</td>\n",
       "      <td>0.015748</td>\n",
       "    </tr>\n",
       "    <tr>\n",
       "      <th>21</th>\n",
       "      <td>PERRP</td>\n",
       "      <td>0.015000</td>\n",
       "    </tr>\n",
       "    <tr>\n",
       "      <th>177</th>\n",
       "      <td>PRMJOCGR</td>\n",
       "      <td>0.014650</td>\n",
       "    </tr>\n",
       "    <tr>\n",
       "      <th>36</th>\n",
       "      <td>PRMARSTA</td>\n",
       "      <td>0.013878</td>\n",
       "    </tr>\n",
       "    <tr>\n",
       "      <th>216</th>\n",
       "      <td>PECYC</td>\n",
       "      <td>0.013760</td>\n",
       "    </tr>\n",
       "    <tr>\n",
       "      <th>25</th>\n",
       "      <td>PEMARITL</td>\n",
       "      <td>0.012748</td>\n",
       "    </tr>\n",
       "    <tr>\n",
       "      <th>220</th>\n",
       "      <td>PEIO1ICD</td>\n",
       "      <td>0.012528</td>\n",
       "    </tr>\n",
       "    <tr>\n",
       "      <th>206</th>\n",
       "      <td>PRNMCHLD</td>\n",
       "      <td>0.012413</td>\n",
       "    </tr>\n",
       "    <tr>\n",
       "      <th>243</th>\n",
       "      <td>GEREG_3</td>\n",
       "      <td>0.011789</td>\n",
       "    </tr>\n",
       "    <tr>\n",
       "      <th>170</th>\n",
       "      <td>PRDTIND1</td>\n",
       "      <td>0.011291</td>\n",
       "    </tr>\n",
       "    <tr>\n",
       "      <th>27</th>\n",
       "      <td>PESEX</td>\n",
       "      <td>0.011208</td>\n",
       "    </tr>\n",
       "    <tr>\n",
       "      <th>224</th>\n",
       "      <td>PRIMIND1</td>\n",
       "      <td>0.010688</td>\n",
       "    </tr>\n",
       "    <tr>\n",
       "      <th>11</th>\n",
       "      <td>HRHTYPE</td>\n",
       "      <td>0.010662</td>\n",
       "    </tr>\n",
       "    <tr>\n",
       "      <th>242</th>\n",
       "      <td>GEREG_2</td>\n",
       "      <td>0.010633</td>\n",
       "    </tr>\n",
       "    <tr>\n",
       "      <th>244</th>\n",
       "      <td>GEREG_4</td>\n",
       "      <td>0.010137</td>\n",
       "    </tr>\n",
       "    <tr>\n",
       "      <th>241</th>\n",
       "      <td>GEREG_1</td>\n",
       "      <td>0.010078</td>\n",
       "    </tr>\n",
       "    <tr>\n",
       "      <th>174</th>\n",
       "      <td>PRMJIND1</td>\n",
       "      <td>0.009691</td>\n",
       "    </tr>\n",
       "    <tr>\n",
       "      <th>217</th>\n",
       "      <td>PEGRPROF</td>\n",
       "      <td>0.008889</td>\n",
       "    </tr>\n",
       "    <tr>\n",
       "      <th>427</th>\n",
       "      <td>GTCBSASZ_0</td>\n",
       "      <td>0.008778</td>\n",
       "    </tr>\n",
       "    <tr>\n",
       "      <th>431</th>\n",
       "      <td>GTCBSASZ_5</td>\n",
       "      <td>0.008564</td>\n",
       "    </tr>\n",
       "    <tr>\n",
       "      <th>26</th>\n",
       "      <td>PESPOUSE</td>\n",
       "      <td>0.008530</td>\n",
       "    </tr>\n",
       "    <tr>\n",
       "      <th>19</th>\n",
       "      <td>GTMETSTA</td>\n",
       "      <td>0.008502</td>\n",
       "    </tr>\n",
       "  </tbody>\n",
       "</table>\n",
       "</div>"
      ],
      "text/plain": [
       "        feature  importance\n",
       "30      PEEDUCA    0.038594\n",
       "23        PEAGE    0.033494\n",
       "7      HUFAMINC    0.032985\n",
       "2      HETENURE    0.018611\n",
       "10     HRNUMHOU    0.018552\n",
       "18     GTCBSAST    0.016524\n",
       "221    PEIO1OCD    0.016172\n",
       "12     HUPRSCNT    0.016027\n",
       "214    PEDIPGED    0.015748\n",
       "21        PERRP    0.015000\n",
       "177    PRMJOCGR    0.014650\n",
       "36     PRMARSTA    0.013878\n",
       "216       PECYC    0.013760\n",
       "25     PEMARITL    0.012748\n",
       "220    PEIO1ICD    0.012528\n",
       "206    PRNMCHLD    0.012413\n",
       "243     GEREG_3    0.011789\n",
       "170    PRDTIND1    0.011291\n",
       "27        PESEX    0.011208\n",
       "224    PRIMIND1    0.010688\n",
       "11      HRHTYPE    0.010662\n",
       "242     GEREG_2    0.010633\n",
       "244     GEREG_4    0.010137\n",
       "241     GEREG_1    0.010078\n",
       "174    PRMJIND1    0.009691\n",
       "217    PEGRPROF    0.008889\n",
       "427  GTCBSASZ_0    0.008778\n",
       "431  GTCBSASZ_5    0.008564\n",
       "26     PESPOUSE    0.008530\n",
       "19     GTMETSTA    0.008502"
      ]
     },
     "execution_count": 17,
     "metadata": {},
     "output_type": "execute_result"
    }
   ],
   "source": [
    "features.sort(['importance'],ascending=False).head(30)"
   ]
  },
  {
   "cell_type": "code",
   "execution_count": 18,
   "metadata": {
    "collapsed": false
   },
   "outputs": [
    {
     "data": {
      "text/plain": [
       "(64666, 434)"
      ]
     },
     "execution_count": 18,
     "metadata": {},
     "output_type": "execute_result"
    }
   ],
   "source": [
    "train.shape"
   ]
  },
  {
   "cell_type": "code",
   "execution_count": 19,
   "metadata": {
    "collapsed": false
   },
   "outputs": [
    {
     "data": {
      "text/plain": [
       "(64666, 126)"
      ]
     },
     "execution_count": 19,
     "metadata": {},
     "output_type": "execute_result"
    }
   ],
   "source": [
    "model = SelectFromModel(clf, prefit=True)\n",
    "train_new = model.transform(train)\n",
    "train_new.shape"
   ]
  },
  {
   "cell_type": "code",
   "execution_count": 21,
   "metadata": {
    "collapsed": false
   },
   "outputs": [],
   "source": [
    "train_new = pd.DataFrame(train_new)\n",
    "train_new['Y'] = np.array(targets)\n",
    "train_new.to_csv('data/training_data_cleaned3.csv', index=False)"
   ]
  },
  {
   "cell_type": "code",
   "execution_count": 22,
   "metadata": {
    "collapsed": false
   },
   "outputs": [
    {
     "data": {
      "text/plain": [
       "Index([  0,   1,   2,   3,   4,   5,   6,   7,   8,   9,\n",
       "       ...\n",
       "       117, 118, 119, 120, 121, 122, 123, 124, 125, 'Y'],\n",
       "      dtype='object', length=127)"
      ]
     },
     "execution_count": 22,
     "metadata": {},
     "output_type": "execute_result"
    }
   ],
   "source": [
    "train_new.columns"
   ]
  },
  {
   "cell_type": "code",
   "execution_count": 138,
   "metadata": {
    "collapsed": false
   },
   "outputs": [
    {
     "data": {
      "text/plain": [
       "316"
      ]
     },
     "execution_count": 138,
     "metadata": {},
     "output_type": "execute_result"
    }
   ],
   "source": [
    "len(features)"
   ]
  },
  {
   "cell_type": "code",
   "execution_count": 141,
   "metadata": {
    "collapsed": false
   },
   "outputs": [
    {
     "data": {
      "text/plain": [
       "array([[   1.,  201.,    2., ...,    0.,    0.,    0.],\n",
       "       [   1.,    1.,    1., ...,    0.,    0.,    0.],\n",
       "       [   2.,    1.,    1., ...,    0.,    0.,    1.],\n",
       "       ..., \n",
       "       [   1.,    1.,    1., ...,    0.,    0.,    0.],\n",
       "       [   1.,  201.,    3., ...,    0.,    1.,    0.],\n",
       "       [   1.,  201.,    1., ...,    0.,    0.,    1.]])"
      ]
     },
     "execution_count": 141,
     "metadata": {},
     "output_type": "execute_result"
    }
   ],
   "source": [
    "train_new"
   ]
  },
  {
   "cell_type": "code",
   "execution_count": 23,
   "metadata": {
    "collapsed": false
   },
   "outputs": [],
   "source": [
    "imp_mean = features.importance.mean()"
   ]
  },
  {
   "cell_type": "code",
   "execution_count": 149,
   "metadata": {
    "collapsed": false
   },
   "outputs": [
    {
     "data": {
      "text/plain": [
       "272    0.008672\n",
       "Name: importance, dtype: float64"
      ]
     },
     "execution_count": 149,
     "metadata": {},
     "output_type": "execute_result"
    }
   ],
   "source": [
    "features[features['feature'] == 'south']['importance']"
   ]
  },
  {
   "cell_type": "code",
   "execution_count": 24,
   "metadata": {
    "collapsed": false
   },
   "outputs": [],
   "source": [
    "keep_feats = []\n",
    "for f in features['feature']:\n",
    "    if float(features[features['feature'] == f]['importance']) >= imp_mean:\n",
    "        keep_feats.append(f)"
   ]
  },
  {
   "cell_type": "code",
   "execution_count": 27,
   "metadata": {
    "collapsed": false
   },
   "outputs": [
    {
     "data": {
      "text/plain": [
       "126"
      ]
     },
     "execution_count": 27,
     "metadata": {},
     "output_type": "execute_result"
    }
   ],
   "source": [
    "len(keep_feats)"
   ]
  },
  {
   "cell_type": "code",
   "execution_count": 29,
   "metadata": {
    "collapsed": false
   },
   "outputs": [],
   "source": [
    "import pickle as pkl\n",
    "pkl.dump(keep_feats, open('keep_feats.pkl', 'wb'))"
   ]
  },
  {
   "cell_type": "code",
   "execution_count": 161,
   "metadata": {
    "collapsed": false
   },
   "outputs": [
    {
     "data": {
      "text/plain": [
       "[<matplotlib.lines.Line2D at 0x10ce3e128>]"
      ]
     },
     "execution_count": 161,
     "metadata": {},
     "output_type": "execute_result"
    },
    {
     "data": {
      "image/png": "[encoded data removed]",
      "text/plain": [
       "<matplotlib.figure.Figure at 0x10cbd2b00>"
      ]
     },
     "metadata": {},
     "output_type": "display_data"
    }
   ],
   "source": [
    "plt.plot(data['PEEDUCA'], data['PES1'], 'b.')"
   ]
  },
  {
   "cell_type": "code",
   "execution_count": 166,
   "metadata": {
    "collapsed": false
   },
   "outputs": [
    {
     "data": {
      "text/plain": [
       "([array([    29.,      0.,     92.,      0.,    218.,      0.,    593.,\n",
       "              0.,    408.,      0.,    619.,      0.,    857.,      0.,\n",
       "            355.,      0.,  13232.,      0.,  10077.,      0.,   2277.,\n",
       "              0.,   2711.,      0.,  10833.,      0.,   4237.,      0.,\n",
       "            933.,    681.]),\n",
       "  array([   110.,      0.,    214.,      0.,    457.,      0.,   1220.,\n",
       "              0.,    890.,      0.,   1364.,      0.,   1817.,      0.,\n",
       "            695.,      0.,  20202.,      0.,  13089.,      0.,   2867.,\n",
       "              0.,   3270.,      0.,  12169.,      0.,   4559.,      0.,\n",
       "           1013.,    731.])],\n",
       " array([ 31. ,  31.5,  32. ,  32.5,  33. ,  33.5,  34. ,  34.5,  35. ,\n",
       "         35.5,  36. ,  36.5,  37. ,  37.5,  38. ,  38.5,  39. ,  39.5,\n",
       "         40. ,  40.5,  41. ,  41.5,  42. ,  42.5,  43. ,  43.5,  44. ,\n",
       "         44.5,  45. ,  45.5,  46. ]),\n",
       " <a list of 2 Lists of Patches objects>)"
      ]
     },
     "execution_count": 166,
     "metadata": {},
     "output_type": "execute_result"
    },
    {
     "data": {
      "image/png": "[encoded data removed]",
      "text/plain": [
       "<matplotlib.figure.Figure at 0x1101f8160>"
      ]
     },
     "metadata": {},
     "output_type": "display_data"
    }
   ],
   "source": [
    "plt.hist([data[data['PES1'] == 1]['PEEDUCA'], data[data['PES1'] == 2]['PEEDUCA']], stacked=True, bins=30)"
   ]
  },
  {
   "cell_type": "code",
   "execution_count": 168,
   "metadata": {
    "collapsed": false
   },
   "outputs": [
    {
     "data": {
      "text/plain": [
       "40.0"
      ]
     },
     "execution_count": 168,
     "metadata": {},
     "output_type": "execute_result"
    }
   ],
   "source": [
    "data['PEEDUCA'].median()"
   ]
  },
  {
   "cell_type": "code",
   "execution_count": null,
   "metadata": {
    "collapsed": true
   },
   "outputs": [],
   "source": []
  }
 ],
 "metadata": {
  "kernelspec": {
   "display_name": "Python 3",
   "language": "python",
   "name": "python3"
  },
  "language_info": {
   "codemirror_mode": {
    "name": "ipython",
    "version": 3
   },
   "file_extension": ".py",
   "mimetype": "text/x-python",
   "name": "python",
   "nbconvert_exporter": "python",
   "pygments_lexer": "ipython3",
   "version": "3.5.2"
  }
 },
 "nbformat": 4,
 "nbformat_minor": 0
}
